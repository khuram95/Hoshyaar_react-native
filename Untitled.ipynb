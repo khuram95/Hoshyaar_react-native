{
 "cells": [
  {
   "cell_type": "code",
   "execution_count": 28,
   "metadata": {},
   "outputs": [],
   "source": [
    "import numpy as np\n",
    "from scipy.stats import skew"
   ]
  },
  {
   "cell_type": "code",
   "execution_count": 33,
   "metadata": {},
   "outputs": [
    {
     "data": {
      "text/plain": [
       "3.0151134457776356"
      ]
     },
     "execution_count": 33,
     "metadata": {},
     "output_type": "execute_result"
    }
   ],
   "source": [
    "A = [ 85,  92,  79,  91,  24,  58,  36, 100,  19,  23, 30, 40]\n",
    "\n",
    "B = [ 65,  72,  70,  99,  64,  58,  56, 100,  3,  43, 60, 50]\n",
    "\n",
    "C = [ 0,  10,  20,  30, 40, 50, 60, 100, 70, 80, 90, 110]\n",
    "\n",
    "D = [ 0,  0, 0, 0, 0, 0, 0, 0, 0, 0, 0, 1000]\n",
    "\n",
    "E = [ -1000,  0, 0, 0, 0, 0, 0, 0, 0, 0, 0, 1000]\n",
    "\n",
    "skew(D)"
   ]
  }
 ],
 "metadata": {
  "kernelspec": {
   "display_name": "Python 3",
   "language": "python",
   "name": "python3"
  },
  "language_info": {
   "codemirror_mode": {
    "name": "ipython",
    "version": 3
   },
   "file_extension": ".py",
   "mimetype": "text/x-python",
   "name": "python",
   "nbconvert_exporter": "python",
   "pygments_lexer": "ipython3",
   "version": "3.7.2"
  }
 },
 "nbformat": 4,
 "nbformat_minor": 2
}
